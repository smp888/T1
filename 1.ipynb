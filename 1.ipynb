{
  "nbformat": 4,
  "nbformat_minor": 0,
  "metadata": {
    "colab": {
      "name": "11.ipynb",
      "provenance": []
    },
    "kernelspec": {
      "name": "python3",
      "display_name": "Python 3"
    },
    "language_info": {
      "name": "python"
    }
  },
  "cells": [
    {
      "cell_type": "code",
      "source": [
        "'''\n",
        "Соколов Михаил Павлович\n",
        "michael-0801@yandex.ru\n",
        "\n",
        "https://github.com/smp888/T1.git\n",
        "\n",
        "Задание 1. Поиск частых наборов\n",
        "\n",
        "Выполните поиск частых наборов объектов в трех различных наборах\n",
        "данных с помощью следующих алгоритмов (или их модификаций): Apriori,\n",
        "FP-Growth, ECLAT. Наборы данных должны существенно отличаться друг от\n",
        "друга по количеству транзакций и/или типичной длине транзакции\n",
        "(количеству объектов). Варьируйте пороговое значение поддержки (например:\n",
        "1%, 3%, 5%, 10%, 15%, 20%). Проверьте идентичность результатов,\n",
        "полученных с помощью различных алгоритмов.\n",
        "1. Подготовьте список частых наборов, в которых не более семи объектов\n",
        "(разумное количество). Проанализируйте и изложите содержательный\n",
        "смысл полученного результата.\n",
        "2. Выполните визуализацию полученных результатов в виде следующих\n",
        "диаграмм:\n",
        "- сравнение быстродействия алгоритмов на фиксированном наборе данных\n",
        "при изменяемом пороге поддержки;\n",
        "- общее количество частых наборов объектов на фиксированном наборе\n",
        "данных при изменяемом пороге поддержки;\n",
        "- максимальная длина частого набора объектов на фиксированном наборе\n",
        "данных при изменяемом пороге поддержки;\n",
        "- количество частых наборов объектов различной длины на\n",
        "фиксированном наборе данных при изменяемом пороге поддержки.\n",
        "\n",
        "\n",
        "'''\n"
      ],
      "metadata": {
        "id": "oXrLFf234Eqq"
      },
      "execution_count": null,
      "outputs": []
    },
    {
      "cell_type": "code",
      "source": [
        "# Загрузка набора данных:\n",
        "# Комментарии на YouTube, классифицированные как спам\n",
        "# https://archive.ics.uci.edu/ml/datasets/YouTube+Spam+Collection\n",
        "\n",
        "with open('comments_spam_youtube.txt', 'r') as f:\n",
        "  data = f.read().splitlines()\n",
        "\n",
        "# Подготовка и анализ набора данных\n",
        "\n",
        "import re\n",
        "# Загрузка списка стоп-слов:\n",
        "import nltk\n",
        "from nltk.corpus import stopwords\n",
        "nltk.download('stopwords')\n",
        "stopwords=stopwords.words()\n",
        "\n",
        "max=0\n",
        "min=10000\n",
        "sum=0\n",
        "for i in range(len(data)):\n",
        "  data[i] = data[i].lower() # Перевод всех букв в нижний регистр\n",
        "  data[i] = re.split(\" |,|!|;|:|%|-|_|#|^|&|[|]|{|}|<|>|\\\"|\\.|\\ufeff|\\?\", data[i]) # Разбиение на слова\n",
        "  data[i] = [word for word in data[i] if not word in stopwords] # Удаление стоп-слов\n",
        "  data[i] = [x for x in data[i] if len(x)>2] # Удаление коротких слов\n",
        "  if len(data[i])>max:\n",
        "    max=len(data[i])\n",
        "  if (len(data[i])<min) and (len(data[i])>0):\n",
        "    min=len(data[i])\n",
        "  if (len(data[i])>0):\n",
        "    sum=sum+len(data[i])\n",
        "data = [x for x in data if len(x)>0]\n",
        "print(\"Количество транзакций:\")\n",
        "print(len(data))\n",
        "print(\"Минимальная длина транзакции:\")\n",
        "print(min)\n",
        "print(\"Максимальная длина транзакции:\")\n",
        "print(max)\n",
        "print(\"Средняя длина транзакции:\")\n",
        "print(sum/len(data))\n",
        "print(\"Пример транзакции:\")\n",
        "print(data[1])"
      ],
      "metadata": {
        "colab": {
          "base_uri": "https://localhost:8080/"
        },
        "id": "IlxS4ymOye_w",
        "outputId": "b4dc6516-1904-4176-fb0f-de04e9fcbb96"
      },
      "execution_count": 1,
      "outputs": [
        {
          "output_type": "stream",
          "name": "stdout",
          "text": [
            "[nltk_data] Downloading package stopwords to /root/nltk_data...\n",
            "[nltk_data]   Package stopwords is already up-to-date!\n",
            "Количество транзакций:\n",
            "1946\n",
            "Минимальная длина транзакции:\n",
            "1\n",
            "Максимальная длина транзакции:\n",
            "132\n",
            "Средняя длина транзакции:\n",
            "7.775950668036999\n",
            "Пример транзакции:\n",
            "['hey', 'guys', 'check', 'new', 'channel', 'first', 'monkeys', \"i'm\", 'monkey', 'white', 'shirt']\n"
          ]
        }
      ]
    },
    {
      "cell_type": "code",
      "source": [
        "# Загрузка набора данных:\n",
        "# Отзывы эко-отеля\n",
        "# https://archive.ics.uci.edu/ml/datasets/Eco-hotel\n",
        "\n",
        "with open('review_hotel2.txt', 'r') as f:\n",
        "  data2 = f.read().splitlines()\n",
        "\n",
        "# Подготовка и анализ набора данных\n",
        "\n",
        "import re\n",
        "# Загрузка списка стоп-слов:\n",
        "import nltk\n",
        "from nltk.corpus import stopwords\n",
        "nltk.download('stopwords')\n",
        "stopwords=stopwords.words()\n",
        "\n",
        "for i in range(len(data2)):\n",
        "  data2[i] = data2[i].lower() # Перевод всех букв в нижний регистр\n",
        "  data2[i] = re.split(\" |,|!|;|:|%|-|_|#|^|&|[|]|{|}|<|>|\\\"|\\.|\\ufeff|\\?\", data2[i]) # Разбиение на слова\n",
        "  data2[i] = [word for word in data2[i] if not word in stopwords] # Удаление стоп-слов\n",
        "  data2[i] = [x for x in data2[i] if len(x)>2] # Удаление коротких слов\n",
        "\n",
        "# Выбор отзывов определенной длины\n",
        "data2 = [x for x in data2 if len(x)>10]\n",
        "data2 = [x for x in data2 if len(x)<200]\n",
        "\n",
        "# Количественный анализ\n",
        "max=0\n",
        "min=10000\n",
        "sum=0\n",
        "for i in range(len(data2)):\n",
        "  if len(data2[i])>max:\n",
        "    max=len(data2[i])\n",
        "  if (len(data2[i])<min):\n",
        "    min=len(data2[i])\n",
        "  sum=sum+len(data2[i])\n",
        "\n",
        "print(\"Количество транзакций:\")\n",
        "print(len(data2))\n",
        "print(\"Минимальная длина транзакции:\")\n",
        "print(min)\n",
        "print(\"Максимальная длина транзакции:\")\n",
        "print(max)\n",
        "print(\"Средняя длина транзакции:\")\n",
        "print(sum/len(data2))\n",
        "print(\"Пример транзакции:\")\n",
        "print(data2[1])"
      ],
      "metadata": {
        "colab": {
          "base_uri": "https://localhost:8080/"
        },
        "id": "N0MB63YoVPwS",
        "outputId": "13e1f7db-82d7-493b-9e94-e3e93c7d2856"
      },
      "execution_count": 107,
      "outputs": [
        {
          "output_type": "stream",
          "name": "stdout",
          "text": [
            "[nltk_data] Downloading package stopwords to /root/nltk_data...\n",
            "[nltk_data]   Package stopwords is already up-to-date!\n",
            "Количество транзакций:\n",
            "295\n",
            "Минимальная длина транзакции:\n",
            "11\n",
            "Максимальная длина транзакции:\n",
            "182\n",
            "Средняя длина транзакции:\n",
            "24.51186440677966\n",
            "Пример транзакции:\n",
            "['dream', 'cozy', 'comfortable', 'best', 'personalized', 'employees', 'congratulated', 'nice', 'taste', 'since', 'reception', 'stay', 'welcome', 'tea', 'cake', 'gluten', 'aversion', 'employees', 'already', 'knew', 'waiting', 'carefully', 'night', 'received', 'fire', 'pits', 'wine', 'guests', 'invited', 'participate', 'interact']\n"
          ]
        }
      ]
    },
    {
      "cell_type": "code",
      "source": [
        "# Загрузка набора данных:\n",
        "# Эмоционально окрашенные предложения на сайтах amazon, imdb, yelp\n",
        "# https://archive.ics.uci.edu/ml/datasets/Sentiment+Labelled+Sentences\n",
        "\n",
        "with open('sentences.txt', 'r') as f:\n",
        "  data3 = f.read().splitlines()\n",
        "\n",
        "# Подготовка и анализ набора данных\n",
        "\n",
        "import re\n",
        "# Загрузка списка стоп-слов:\n",
        "import nltk\n",
        "from nltk.corpus import stopwords\n",
        "nltk.download('stopwords')\n",
        "stopwords=stopwords.words()\n",
        "\n",
        "for i in range(len(data3)):\n",
        "  data3[i] = data3[i].lower() # Перевод всех букв в нижний регистр\n",
        "  data3[i] = re.split(\" |,|!|;|:|%|-|_|#|^|&|[|]|{|}|<|>|\\\"|\\.|\\ufeff|\\?\", data3[i]) # Разбиение на слова\n",
        "  data3[i] = [word for word in data3[i] if not word in stopwords] # Удаление стоп-слов\n",
        "  data3[i] = [x for x in data3[i] if len(x)>2] # Удаление коротких слов\n",
        "\n",
        "# Выбор отзывов определенной длины\n",
        "data3 = [x for x in data3 if len(x)>20]\n",
        "data3 = [x for x in data3 if len(x)<150]\n",
        "\n",
        "# Количественный анализ\n",
        "max=0\n",
        "min=10000\n",
        "sum=0\n",
        "for i in range(len(data3)):\n",
        "  if len(data3[i])>max:\n",
        "    max=len(data3[i])\n",
        "  if (len(data3[i])<min):\n",
        "    min=len(data3[i])\n",
        "  sum=sum+len(data3[i])\n",
        "\n",
        "print(\"Количество транзакций:\")\n",
        "print(len(data3))\n",
        "print(\"Минимальная длина транзакции:\")\n",
        "print(min)\n",
        "print(\"Максимальная длина транзакции:\")\n",
        "print(max)\n",
        "print(\"Средняя длина транзакции:\")\n",
        "print(sum/len(data3))\n",
        "print(\"Пример транзакции:\")\n",
        "print(data3[1])"
      ],
      "metadata": {
        "colab": {
          "base_uri": "https://localhost:8080/"
        },
        "id": "9H9nVW9ZgC_V",
        "outputId": "20759ae6-c539-4b1c-dc3f-182a6112e2d6"
      },
      "execution_count": 108,
      "outputs": [
        {
          "output_type": "stream",
          "name": "stdout",
          "text": [
            "[nltk_data] Downloading package stopwords to /root/nltk_data...\n",
            "[nltk_data]   Package stopwords is already up-to-date!\n",
            "Количество транзакций:\n",
            "178\n",
            "Минимальная длина транзакции:\n",
            "21\n",
            "Максимальная длина транзакции:\n",
            "147\n",
            "Средняя длина транзакции:\n",
            "38.264044943820224\n",
            "Пример транзакции:\n",
            "['think', 'instructions', 'provided', 'helpful', 'people', 'couldnt', 'hear', 'talk', 'pull', 'earphone', 'talk', 'phone', 'hold', 'charge', 'simple', 'little', 'phone', 'use', 'breakage', 'unacceptible', 'product', 'ideal', 'people', 'like', 'whose', 'ears', 'sensitive']\n"
          ]
        }
      ]
    },
    {
      "cell_type": "code",
      "source": [
        "# Установка библиотеки для алгоритма Apriori\n",
        "!pip install efficient-apriori\n",
        "from efficient_apriori import apriori"
      ],
      "metadata": {
        "colab": {
          "base_uri": "https://localhost:8080/"
        },
        "id": "QLY5Ksn_Cz4N",
        "outputId": "5d1a4930-b260-4999-96fc-99b2273b606d"
      },
      "execution_count": 8,
      "outputs": [
        {
          "output_type": "stream",
          "name": "stdout",
          "text": [
            "Requirement already satisfied: efficient-apriori in /usr/local/lib/python3.7/dist-packages (2.0.1)\n"
          ]
        }
      ]
    },
    {
      "cell_type": "code",
      "source": [
        "# Алгоритм Apriori, набор данных №1 - Комментарии\n",
        "itemsets, rules = apriori(data, min_support=0.04)\n",
        "for i in range(len(itemsets)):\n",
        "  print(itemsets[i+1]) "
      ],
      "metadata": {
        "colab": {
          "base_uri": "https://localhost:8080/"
        },
        "id": "2gfjdMJGyySj",
        "outputId": "8d17db53-6da6-44b9-b902-07b1c882c1ab"
      },
      "execution_count": 114,
      "outputs": [
        {
          "output_type": "stream",
          "name": "stdout",
          "text": [
            "{('hey',): 85, ('guys',): 103, ('check',): 449, ('channel',): 171, ('subscribe',): 191, ('views',): 89, ('https',): 88, ('like',): 209, ('please',): 174, ('http',): 100, ('//www',): 100, ('music',): 100, ('song',): 261, ('youtube',): 233, ('video',): 278, ('love',): 184}\n",
            "{('channel', 'check'): 84, ('check', 'video'): 167, ('check', 'youtube'): 189, ('video', 'youtube'): 150}\n",
            "{('check', 'video', 'youtube'): 128}\n"
          ]
        }
      ]
    },
    {
      "cell_type": "code",
      "source": [
        "# Алгоритм Apriori, набор данных №2 - Отзывы\n",
        "itemsets, rules = apriori(data2, min_support=0.02)\n",
        "for i in range(len(itemsets)):\n",
        "  print(itemsets[i+1]) "
      ],
      "metadata": {
        "colab": {
          "base_uri": "https://localhost:8080/"
        },
        "id": "qDzZuSg5XQAB",
        "outputId": "d0c3a3c3-4492-4c75-fde6-856303623df6"
      },
      "execution_count": 121,
      "outputs": [
        {
          "output_type": "stream",
          "name": "stdout",
          "text": [
            "{('everything',): 47, ('staff',): 65, ('food',): 51, ('fire',): 7, ('dйcor',): 22, ('spa',): 16, ('rooms',): 22, ('beach',): 14, ('top',): 7, ('dream',): 10, ('cozy',): 15, ('comfortable',): 6, ('best',): 29, ('personalized',): 6, ('employees',): 7, ('nice',): 32, ('taste',): 6, ('since',): 18, ('reception',): 15, ('stay',): 54, ('welcome',): 7, ('tea',): 7, ('cake',): 6, ('already',): 9, ('night',): 17, ('received',): 8, ('wine',): 10, ('guests',): 15, ('concept',): 12, ('like',): 33, ('made',): 26, ('wonderful',): 49, ('romantic',): 7, ('every',): 28, ('room',): 57, ('incredible',): 7, ('excellent',): 21, ('design',): 12, ('make',): 16, ('memorable',): 8, ('around',): 7, ('amazing',): 49, ('place',): 89, ('special',): 32, ('loved',): 33, ('hope',): 14, ('back',): 54, ('soon',): 22, ('ever',): 11, ('fantastic',): 44, ('attention',): 14, ('treatment',): 6, ('single',): 11, ('details',): 14, ('thought',): 7, ('order',): 6, ('environment',): 17, ('beautiful',): 37, ('places',): 7, ('magical',): 28, ('world',): 15, ('full',): 19, ('thanks',): 21, ('team',): 26, ('areias',): 7, ('seixo',): 36, ('coming',): 7, ('even',): 14, ('whole',): 11, ('experience',): 45, ('many',): 12, ('would',): 24, ('thank',): 60, ('always',): 17, ('life',): 11, ('bread',): 6, ('well',): 23, ('leonardo',): 12, ('way',): 13, ('making',): 9, ('feel',): 31, ('home',): 17, ('warm',): 10, ('give',): 8, ('areas',): 35, ('felt',): 6, ('love',): 25, ('beyond',): 6, ('nature',): 17, ('seems',): 6, ('truly',): 10, ('moment',): 9, ('quite',): 6, ('small',): 11, ('front',): 6, ('definitely',): 16, ('weekend',): 7, ('could',): 17, ('see',): 20, ('unique',): 22, ('bathroom',): 6, ('fireplace',): 9, ('get',): 14, ('everyone',): 10, ('worth',): 6, ('beauty',): 9, ('look',): 7, ('sure',): 14, ('big',): 13, ('service',): 41, ('found',): 14, ('tripadvisor',): 6, ('totally',): 6, ('atmosphere',): 13, ('relax',): 10, ('architecture',): 18, ('absolutely',): 15, ('perfect',): 25, ('decoration',): 7, ('breakfast',): 19, ('delicious',): 12, ('fresh',): 6, ('restaurant',): 41, ('went',): 8, ('quality',): 16, ('products',): 7, ('tasty',): 6, ('dishes',): 14, ('lovely',): 17, ('kitchen',): 15, ('massage',): 8, ('short',): 6, ('unforgettable',): 6, ('music',): 8, ('professional',): 7, ('chef',): 14, ('pereira',): 9, ('lot',): 10, ('good',): 20, ('enjoyed',): 17, ('course',): 9, ('little',): 13, ('without',): 7, ('view',): 12, ('enjoy',): 10, ('morning',): 6, ('despite',): 6, ('kindness',): 14, ('location',): 10, ('recommend',): 11, ('rest',): 8, ('find',): 6, ('hotels',): 10, (\"we've\",): 7, ('detail',): 18, ('friends',): 9, ('opinion',): 7, ('relaxed',): 6, ('portugal',): 6, ('return',): 12, ('spend',): 8, ('dinner',): 22, ('bit',): 12, ('price',): 7, ('high',): 9, ('several',): 11, ('years',): 9, ('garden',): 21, ('makes',): 9, ('time',): 37, ('served',): 12, ('extremely',): 11, ('people',): 19, ('different',): 10, ('congratulations',): 12, ('next',): 13, ('really',): 27, ('personal',): 7, ('dunes',): 9, ('day',): 18, ('tasting',): 12, ('menu',): 14, ('flavors',): 6, ('dear',): 7, ('words',): 8, ('decorated',): 7, ('say',): 9, ('possible',): 8, ('repeat',): 8, ('last',): 8, ('think',): 13, ('long',): 8, ('sound',): 6, ('away',): 8, ('reservation',): 6, ('nights',): 8, ('done',): 8, ('better',): 9, ('left',): 7, ('magic',): 7, ('right',): 6, ('surroundings',): 11, ('fact',): 11, ('work',): 9, ('great',): 34, ('visit',): 9, ('spent',): 8, ('days',): 14, ('hospitality',): 7, ('keep',): 6, ('know',): 6, ('relaxing',): 14, ('stayed',): 15, ('space',): 9, ('another',): 7, ('views',): 6, ('kind',): 8, ('paradise',): 8, ('exceptional',): 6, ('new',): 10, ('feeling',): 6, ('first',): 9, ('gorgeous',): 8, ('wanted',): 6, ('wedding',): 7, ('much',): 25, ('open',): 8, ('friendly',): 21, ('welcoming',): 8, ('second',): 7, ('going',): 7, ('nothing',): 8, ('enough',): 8, ('however',): 8, ('came',): 7, ('information',): 6, ('honeymoon',): 14, ('area',): 9, ('booking',): 6, ('still',): 6, ('two',): 10, ('tub',): 6, ('interesting',): 6, ('pool',): 7}\n",
            "{('absolutely', 'amazing'): 6, ('absolutely', 'place'): 8, ('absolutely', 'restaurant'): 6, ('absolutely', 'staff'): 8, ('amazing', 'areas'): 8, ('amazing', 'back'): 10, ('amazing', 'beautiful'): 8, ('amazing', 'best'): 6, ('amazing', 'dйcor'): 6, ('amazing', 'everything'): 13, ('amazing', 'excellent'): 6, ('amazing', 'experience'): 11, ('amazing', 'fantastic'): 10, ('amazing', 'feel'): 9, ('amazing', 'food'): 16, ('amazing', 'full'): 6, ('amazing', 'garden'): 8, ('amazing', 'great'): 9, ('amazing', 'loved'): 7, ('amazing', 'much'): 6, ('amazing', 'nature'): 7, ('amazing', 'perfect'): 6, ('amazing', 'place'): 22, ('amazing', 'really'): 8, ('amazing', 'restaurant'): 8, ('amazing', 'room'): 16, ('amazing', 'rooms'): 6, ('amazing', 'seixo'): 9, ('amazing', 'service'): 6, ('amazing', 'staff'): 14, ('amazing', 'stay'): 12, ('amazing', 'thank'): 16, ('amazing', 'wonderful'): 10, ('architecture', 'areas'): 8, ('architecture', 'beautiful'): 8, ('architecture', 'place'): 7, ('architecture', 'seixo'): 6, ('architecture', 'staff'): 7, ('architecture', 'thank'): 7, ('areas', 'beautiful'): 7, ('areas', 'experience'): 6, ('areas', 'feel'): 7, ('areas', 'food'): 9, ('areas', 'great'): 6, ('areas', 'like'): 8, ('areas', 'made'): 7, ('areas', 'magical'): 6, ('areas', 'place'): 16, ('areas', 'really'): 6, ('areas', 'restaurant'): 7, ('areas', 'room'): 9, ('areas', 'seixo'): 31, ('areas', 'service'): 8, ('areas', 'special'): 7, ('areas', 'stay'): 10, ('areas', 'thank'): 12, ('areas', 'time'): 9, ('areas', 'way'): 6, ('areas', 'wonderful'): 10, ('areas', 'would'): 6, ('areias', 'seixo'): 6, ('back', 'beautiful'): 11, ('back', 'day'): 7, ('back', 'dйcor'): 7, ('back', 'everything'): 6, ('back', 'experience'): 10, ('back', 'fantastic'): 8, ('back', 'food'): 9, ('back', 'hope'): 6, ('back', 'love'): 7, ('back', 'loved'): 12, ('back', 'magical'): 10, ('back', 'much'): 8, ('back', 'nice'): 9, ('back', 'people'): 7, ('back', 'place'): 25, ('back', 'room'): 13, ('back', 'service'): 8, ('back', 'soon'): 12, ('back', 'special'): 10, ('back', 'staff'): 13, ('back', 'stay'): 8, ('back', 'sure'): 8, ('back', 'team'): 7, ('back', 'thank'): 10, ('back', 'thanks'): 6, ('back', 'time'): 10, ('back', 'unique'): 6, ('back', 'wonderful'): 13, ('beach', 'place'): 7, ('beautiful', 'best'): 9, ('beautiful', 'details'): 6, ('beautiful', 'experience'): 8, ('beautiful', 'fantastic'): 7, ('beautiful', 'feel'): 6, ('beautiful', 'food'): 9, ('beautiful', 'full'): 7, ('beautiful', 'nice'): 6, ('beautiful', 'place'): 16, ('beautiful', 'restaurant'): 8, ('beautiful', 'room'): 7, ('beautiful', 'seixo'): 7, ('beautiful', 'special'): 8, ('beautiful', 'staff'): 12, ('beautiful', 'stay'): 7, ('beautiful', 'thank'): 11, ('beautiful', 'wonderful'): 10, ('best', 'ever'): 7, ('best', 'experience'): 6, ('best', 'nice'): 7, ('best', 'place'): 10, ('best', 'restaurant'): 6, ('best', 'room'): 7, ('best', 'staff'): 9, ('breakfast', 'great'): 7, ('breakfast', 'nice'): 6, ('breakfast', 'restaurant'): 7, ('breakfast', 'room'): 7, ('breakfast', 'staff'): 7, ('chef', 'leonardo'): 8, ('chef', 'pereira'): 7, ('congratulations', 'place'): 6, ('could', 'place'): 7, ('could', 'staff'): 6, ('cozy', 'nice'): 6, ('cozy', 'place'): 8, ('cozy', 'service'): 6, ('day', 'perfect'): 6, ('day', 'place'): 7, ('day', 'staff'): 6, ('day', 'wonderful'): 7, ('days', 'wonderful'): 6, ('definitely', 'get'): 6, ('definitely', 'made'): 6, ('definitely', 'place'): 6, ('definitely', 'thank'): 6, ('definitely', 'would'): 6, ('delicious', 'restaurant'): 7, ('design', 'room'): 6, ('detail', 'every'): 12, ('detail', 'place'): 6, ('details', 'full'): 7, ('details', 'place'): 10, ('details', 'special'): 7, ('dinner', 'everything'): 6, ('dinner', 'place'): 7, ('dinner', 'room'): 6, ('dinner', 'service'): 6, ('dinner', 'stay'): 6, ('dйcor', 'fantastic'): 7, ('dйcor', 'place'): 8, ('dйcor', 'staff'): 7, ('enjoyed', 'really'): 6, ('environment', 'experience'): 6, ('environment', 'fantastic'): 7, ('environment', 'food'): 6, ('environment', 'room'): 9, ('every', 'feel'): 6, ('every', 'food'): 6, ('every', 'magical'): 6, ('every', 'place'): 11, ('every', 'single'): 9, ('every', 'staff'): 8, ('every', 'stay'): 6, ('every', 'thank'): 6, ('every', 'time'): 7, ('every', 'wonderful'): 7, ('everything', 'fact'): 6, ('everything', 'feel'): 8, ('everything', 'food'): 11, ('everything', 'great'): 9, ('everything', 'love'): 10, ('everything', 'loved'): 6, ('everything', 'much'): 6, ('everything', 'perfect'): 12, ('everything', 'place'): 12, ('everything', 'restaurant'): 8, ('everything', 'room'): 9, ('everything', 'service'): 6, ('everything', 'space'): 6, ('everything', 'special'): 6, ('everything', 'staff'): 12, ('everything', 'stay'): 9, ('everything', 'team'): 6, ('everything', 'thank'): 12, ('everything', 'time'): 9, ('everything', 'wonderful'): 9, ('excellent', 'experience'): 7, ('excellent', 'food'): 6, ('excellent', 'place'): 6, ('excellent', 'room'): 8, ('excellent', 'staff'): 10, ('excellent', 'stay'): 6, ('excellent', 'wonderful'): 6, ('experience', 'fantastic'): 12, ('experience', 'food'): 9, ('experience', 'great'): 7, ('experience', 'loved'): 6, ('experience', 'nature'): 6, ('experience', 'nice'): 7, ('experience', 'place'): 14, ('experience', 'repeat'): 7, ('experience', 'restaurant'): 8, ('experience', 'room'): 15, ('experience', 'seixo'): 6, ('experience', 'service'): 7, ('experience', 'staff'): 16, ('experience', 'stay'): 9, ('experience', 'thank'): 10, ('experience', 'unique'): 9, ('experience', 'whole'): 7, ('experience', 'wonderful'): 6, ('extremely', 'staff'): 6, ('fact', 'menu'): 6, ('fact', 'restaurant'): 6, ('fantastic', 'food'): 12, ('fantastic', 'kindness'): 6, ('fantastic', 'like'): 6, ('fantastic', 'loved'): 6, ('fantastic', 'nice'): 8, ('fantastic', 'place'): 18, ('fantastic', 'restaurant'): 7, ('fantastic', 'room'): 11, ('fantastic', 'service'): 9, ('fantastic', 'staff'): 12, ('fantastic', 'stay'): 13, ('fantastic', 'thank'): 11, ('fantastic', 'well'): 7, ('fantastic', 'wonderful'): 8, ('feel', 'food'): 8, ('feel', 'home'): 12, ('feel', 'like'): 6, ('feel', 'made'): 6, ('feel', 'magical'): 7, ('feel', 'place'): 14, ('feel', 'restaurant'): 6, ('feel', 'seixo'): 6, ('feel', 'special'): 7, ('feel', 'staff'): 8, ('feel', 'thank'): 8, ('fireplace', 'room'): 6, ('food', 'friendly'): 9, ('food', 'great'): 8, ('food', 'leonardo'): 6, ('food', 'like'): 6, ('food', 'love'): 7, ('food', 'loved'): 6, ('food', 'lovely'): 8, ('food', 'magical'): 8, ('food', 'menu'): 7, ('food', 'nature'): 7, ('food', 'nice'): 7, ('food', 'people'): 6, ('food', 'place'): 14, ('food', 'restaurant'): 11, ('food', 'room'): 13, ('food', 'rooms'): 9, ('food', 'seixo'): 8, ('food', 'service'): 10, ('food', 'staff'): 17, ('food', 'stay'): 15, ('food', 'tasting'): 7, ('food', 'thank'): 12, ('food', 'think'): 6, ('food', 'time'): 6, ('food', 'well'): 6, ('food', 'wonderful'): 11, ('found', 'place'): 7, ('found', 'room'): 6, ('found', 'stay'): 6, ('friendly', 'restaurant'): 6, ('friendly', 'room'): 8, ('friendly', 'rooms'): 8, ('friendly', 'service'): 6, ('friendly', 'staff'): 11, ('full', 'place'): 9, ('garden', 'great'): 6, ('garden', 'room'): 7, ('garden', 'staff'): 7, ('garden', 'unique'): 6, ('good', 'room'): 7, ('great', 'place'): 9, ('great', 'restaurant'): 6, ('great', 'room'): 8, ('great', 'seixo'): 6, ('great', 'staff'): 9, ('great', 'stay'): 6, ('great', 'time'): 6, ('home', 'place'): 8, ('honeymoon', 'thank'): 7, ('hope', 'place'): 7, ('hope', 'thank'): 6, ('however', 'room'): 6, ('kindness', 'place'): 6, ('kindness', 'thank'): 8, ('kitchen', 'restaurant'): 7, ('kitchen', 'staff'): 6, ('leonardo', 'pereira'): 8, ('leonardo', 'restaurant'): 6, ('like', 'place'): 13, ('like', 'room'): 9, ('like', 'seixo'): 7, ('like', 'service'): 7, ('like', 'staff'): 6, ('like', 'stay'): 8, ('like', 'thank'): 6, ('like', 'would'): 10, ('little', 'nice'): 6, ('love', 'place'): 9, ('love', 'soon'): 6, ('love', 'staff'): 7, ('love', 'stay'): 8, ('love', 'thank'): 12, ('loved', 'place'): 14, ('loved', 'room'): 9, ('loved', 'staff'): 11, ('loved', 'sure'): 6, ('loved', 'thank'): 8, ('lovely', 'place'): 7, ('lovely', 'room'): 6, ('lovely', 'staff'): 7, ('lovely', 'stay'): 7, ('lovely', 'thank'): 6, ('made', 'place'): 8, ('made', 'seixo'): 7, ('made', 'staff'): 8, ('made', 'stay'): 6, ('made', 'thank'): 7, ('made', 'wonderful'): 9, ('magical', 'place'): 17, ('magical', 'seixo'): 7, ('magical', 'special'): 6, ('magical', 'stay'): 6, ('make', 'special'): 6, ('make', 'time'): 6, ('menu', 'restaurant'): 6, ('menu', 'tasting'): 10, ('much', 'place'): 11, ('much', 'special'): 6, ('much', 'staff'): 6, ('much', 'thank'): 13, ('much', 'wonderful'): 6, ('music', 'room'): 6, ('nature', 'place'): 9, ('nature', 'stay'): 6, ('nature', 'thank'): 8, ('next', 'place'): 6, ('nice', 'place'): 9, ('nice', 'restaurant'): 9, ('nice', 'room'): 9, ('nice', 'staff'): 7, ('nice', 'stay'): 7, ('night', 'place'): 10, ('night', 'room'): 6, ('night', 'stay'): 6, ('people', 'place'): 8, ('perfect', 'place'): 10, ('perfect', 'restaurant'): 7, ('perfect', 'staff'): 9, ('perfect', 'time'): 6, ('place', 'really'): 8, ('place', 'relax'): 8, ('place', 'restaurant'): 10, ('place', 'room'): 17, ('place', 'rooms'): 7, ('place', 'see'): 7, ('place', 'seixo'): 15, ('place', 'service'): 18, ('place', 'since'): 6, ('place', 'single'): 6, ('place', 'soon'): 9, ('place', 'special'): 24, ('place', 'staff'): 18, ('place', 'stay'): 13, ('place', 'surroundings'): 6, ('place', 'team'): 9, ('place', 'thank'): 24, ('place', 'thanks'): 9, ('place', 'time'): 11, ('place', 'truly'): 6, ('place', 'unique'): 13, ('place', 'warm'): 6, ('place', 'way'): 7, ('place', 'well'): 11, ('place', 'wonderful'): 15, ('place', 'would'): 7, ('quality', 'room'): 6, ('really', 'seixo'): 8, ('really', 'stay'): 7, ('really', 'thank'): 10, ('reception', 'restaurant'): 7, ('relaxing', 'staff'): 7, ('relaxing', 'stay'): 6, ('restaurant', 'room'): 13, ('restaurant', 'rooms'): 7, ('restaurant', 'seixo'): 7, ('restaurant', 'service'): 9, ('restaurant', 'spa'): 7, ('restaurant', 'staff'): 11, ('restaurant', 'tasting'): 6, ('restaurant', 'team'): 6, ('restaurant', 'think'): 7, ('restaurant', 'time'): 11, ('restaurant', 'wonderful'): 6, ('return', 'wonderful'): 6, ('room', 'rooms'): 10, ('room', 'seixo'): 10, ('room', 'service'): 8, ('room', 'spa'): 8, ('room', 'staff'): 15, ('room', 'stay'): 11, ('room', 'thank'): 8, ('room', 'time'): 8, ('room', 'unique'): 9, ('room', 'view'): 7, ('room', 'wonderful'): 16, ('room', 'would'): 7, ('rooms', 'staff'): 8, ('rooms', 'stay'): 8, ('rooms', 'thank'): 6, ('rooms', 'wonderful'): 6, ('see', 'soon'): 8, ('see', 'stay'): 7, ('see', 'thank'): 7, ('see', 'time'): 7, ('seixo', 'service'): 9, ('seixo', 'special'): 6, ('seixo', 'stay'): 11, ('seixo', 'thank'): 12, ('seixo', 'time'): 10, ('seixo', 'wonderful'): 11, ('service', 'special'): 8, ('service', 'stay'): 7, ('service', 'thank'): 9, ('service', 'time'): 9, ('service', 'well'): 7, ('service', 'wonderful'): 8, ('soon', 'team'): 6, ('soon', 'thank'): 7, ('spa', 'staff'): 9, ('spa', 'stay'): 6, ('special', 'staff'): 10, ('special', 'thank'): 11, ('special', 'unique'): 7, ('special', 'wonderful'): 7, ('staff', 'stay'): 15, ('staff', 'stayed'): 8, ('staff', 'thank'): 21, ('staff', 'unique'): 7, ('staff', 'visit'): 6, ('staff', 'wonderful'): 12, ('stay', 'thank'): 20, ('stay', 'unique'): 6, ('stay', 'wonderful'): 16, ('team', 'thank'): 7, ('team', 'thanks'): 6, ('team', 'time'): 9, ('team', 'wonderful'): 7, ('thank', 'time'): 7, ('thank', 'way'): 7, ('thank', 'wonderful'): 14, ('thanks', 'wonderful'): 6, ('time', 'wonderful'): 7}\n",
            "{('amazing', 'areas', 'place'): 6, ('amazing', 'areas', 'seixo'): 8, ('amazing', 'fantastic', 'place'): 7, ('amazing', 'feel', 'place'): 6, ('amazing', 'food', 'place'): 6, ('amazing', 'food', 'staff'): 6, ('amazing', 'food', 'stay'): 6, ('amazing', 'place', 'room'): 8, ('amazing', 'place', 'seixo'): 6, ('amazing', 'place', 'thank'): 7, ('amazing', 'room', 'wonderful'): 6, ('amazing', 'stay', 'thank'): 7, ('architecture', 'areas', 'seixo'): 6, ('areas', 'beautiful', 'seixo'): 6, ('areas', 'feel', 'seixo'): 6, ('areas', 'food', 'seixo'): 8, ('areas', 'great', 'seixo'): 6, ('areas', 'made', 'seixo'): 6, ('areas', 'place', 'seixo'): 13, ('areas', 'place', 'special'): 6, ('areas', 'place', 'thank'): 8, ('areas', 'really', 'seixo'): 6, ('areas', 'restaurant', 'seixo'): 7, ('areas', 'room', 'seixo'): 8, ('areas', 'seixo', 'service'): 8, ('areas', 'seixo', 'special'): 6, ('areas', 'seixo', 'stay'): 8, ('areas', 'seixo', 'thank'): 10, ('areas', 'seixo', 'time'): 9, ('areas', 'seixo', 'wonderful'): 9, ('back', 'beautiful', 'place'): 6, ('back', 'experience', 'room'): 6, ('back', 'loved', 'staff'): 6, ('back', 'magical', 'place'): 8, ('back', 'much', 'place'): 6, ('back', 'place', 'special'): 9, ('back', 'place', 'staff'): 6, ('back', 'place', 'thank'): 7, ('back', 'place', 'wonderful'): 6, ('back', 'staff', 'thank'): 6, ('beautiful', 'place', 'special'): 7, ('beautiful', 'place', 'staff'): 8, ('beautiful', 'place', 'thank'): 6, ('chef', 'leonardo', 'pereira'): 6, ('details', 'place', 'special'): 6, ('experience', 'food', 'room'): 6, ('experience', 'place', 'unique'): 6, ('experience', 'room', 'staff'): 7, ('fantastic', 'place', 'room'): 6, ('fantastic', 'place', 'staff'): 6, ('food', 'friendly', 'staff'): 6, ('food', 'room', 'staff'): 6, ('food', 'room', 'wonderful'): 6, ('food', 'stay', 'thank'): 6, ('like', 'place', 'would'): 6, ('loved', 'place', 'thank'): 6, ('place', 'seixo', 'thank'): 6, ('place', 'service', 'special'): 8, ('place', 'special', 'staff'): 7, ('place', 'special', 'thank'): 7, ('place', 'staff', 'thank'): 9, ('place', 'thank', 'way'): 6, ('restaurant', 'room', 'staff'): 6, ('room', 'stay', 'wonderful'): 6, ('staff', 'stay', 'thank'): 7}\n",
            "{('amazing', 'areas', 'place', 'seixo'): 6, ('areas', 'place', 'seixo', 'thank'): 6}\n"
          ]
        }
      ]
    },
    {
      "cell_type": "code",
      "source": [
        "# Алгоритм Apriori, набор данных №3 - Предложения\n",
        "itemsets, rules = apriori(data3, min_support=0.03)\n",
        "for i in range(len(itemsets)):\n",
        "  print(itemsets[i+1]) "
      ],
      "metadata": {
        "colab": {
          "base_uri": "https://localhost:8080/"
        },
        "id": "Ase8IT9xj3Ay",
        "outputId": "d646c48f-1212-47a0-bfef-904d81c199a2"
      },
      "execution_count": 144,
      "outputs": [
        {
          "output_type": "stream",
          "name": "stdout",
          "text": [
            "{('place',): 27, ('way',): 16, ('makes',): 8, ('long',): 7, ('would',): 31, ('last',): 7, ('went',): 13, ('could',): 21, ('get',): 20, ('bought',): 7, ('use',): 19, ('absolutely',): 12, ('loved',): 8, ('think',): 15, ('people',): 12, ('hear',): 7, ('talk',): 8, ('phone',): 36, ('charge',): 7, ('little',): 17, ('product',): 14, ('like',): 44, ('car',): 7, ('two',): 15, ('years',): 8, ('charger',): 8, ('well',): 28, ('make',): 19, ('never',): 18, ('buy',): 12, ('different',): 6, ('big',): 12, ('week',): 6, ('gets',): 7, ('found',): 7, ('best',): 14, (\"i've\",): 16, ('far',): 9, ('quality',): 25, (\"i'm\",): 19, ('love',): 13, ('headset',): 12, ('bluetooth',): 7, ('great',): 27, ('good',): 45, ('ear',): 12, ('piece',): 12, ('camera',): 9, ('work',): 21, ('sound',): 16, ('excellent',): 10, ('call',): 8, ('waste',): 20, ('calls',): 9, ('disappointed',): 13, ('hours',): 7, ('got',): 21, ('time',): 37, ('poor',): 13, ('screen',): 9, ('black',): 8, ('problem',): 7, ('put',): 9, ('slow',): 11, ('every',): 14, ('still',): 12, ('first',): 17, ('bit',): 6, ('year',): 7, ('tell',): 6, ('worked',): 7, ('used',): 14, ('battery',): 11, ('completely',): 6, ('service',): 25, ('new',): 10, ('worst',): 22, ('customer',): 7, ('ever',): 24, ('worth',): 8, ('many',): 13, ('weak',): 7, ('old',): 11, ('lot',): 8, ('better',): 16, ('really',): 27, ('quite',): 10, ('disappointing',): 6, ('kind',): 9, ('horrible',): 11, ('thing',): 15, ('extremely',): 7, ('works',): 10, ('everything',): 10, ('started',): 9, ('problems',): 6, ('white',): 6, ('find',): 7, ('bad',): 32, ('recommend',): 10, ('anyone',): 8, ('might',): 6, ('made',): 18, ('case',): 7, ('small',): 6, ('even',): 30, ('always',): 7, ('unfortunately',): 7, ('know',): 14, ('either',): 6, ('almost',): 9, ('nothing',): 13, ('easy',): 6, ('money',): 9, ('price',): 7, ('took',): 7, ('impressed',): 7, ('give',): 8, ('especially',): 6, ('none',): 6, ('low',): 7, ('around',): 9, ('nice',): 8, ('came',): 6, ('hard',): 6, ('however',): 12, (\"i'd\",): 7, ('terrible',): 13, ('crap',): 7, ('real',): 13, ('since',): 7, ('something',): 6, ('times',): 9, ('part',): 6, ('anything',): 7, (\"can't\",): 13, ('awful',): 14, ('coming',): 7, ('minutes',): 15, ('soon',): 6, ('done',): 7, ('much',): 24, ('right',): 9, ('cheap',): 9, ('line',): 7, ('going',): 12, ('things',): 8, ('another',): 8, ('experience',): 9, ('enough',): 14, ('away',): 8, ('look',): 9, ('totally',): 11, ('understand',): 6, ('said',): 7, ('back',): 14, ('pretty',): 9, ('day',): 7, ('movie',): 43, ('characters',): 15, ('acting',): 21, ('plot',): 21, ('lines',): 7, ('scene',): 6, ('lacks',): 6, ('guess',): 6, ('saw',): 7, ('character',): 10, ('film',): 37, ('least',): 7, ('story',): 14, ('scenes',): 11, ('seen',): 10, ('life',): 6, ('cast',): 8, ('feeling',): 7, ('actors',): 10, ('dialogue',): 10, ('watch',): 10, ('watching',): 12, ('boring',): 7, ('stupid',): 11, ('watched',): 9, ('hour',): 6, ('definitely',): 6, ('writing',): 6, ('worse',): 12, ('see',): 16, ('movies',): 7, (\"there's\",): 7, ('films',): 7, ('script',): 15, ('say',): 7, ('probably',): 7, ('though',): 6, ('mess',): 6, ('food',): 19, ('restaurant',): 7, ('eat',): 7, ('feel',): 6}\n",
            "{('absolutely', 'movie'): 6, ('acting', 'bad'): 12, ('acting', 'even'): 10, ('acting', 'film'): 12, ('acting', 'good'): 8, ('acting', 'like'): 10, ('acting', 'movie'): 14, ('acting', 'plot'): 10, ('acting', 'real'): 6, ('acting', 'script'): 8, ('acting', 'worse'): 8, ('actors', 'awful'): 6, ('actors', 'film'): 6, ('actors', 'great'): 6, ('actors', 'movie'): 6, ('actors', 'would'): 6, ('around', 'could'): 6, ('awful', 'bad'): 6, ('awful', 'film'): 9, ('awful', 'like'): 6, ('awful', 'movie'): 8, ('awful', 'time'): 6, ('back', 'never'): 6, ('back', 'place'): 6, ('bad', 'could'): 7, ('bad', 'enough'): 6, ('bad', 'even'): 12, ('bad', 'ever'): 8, ('bad', 'film'): 14, ('bad', 'get'): 6, ('bad', 'good'): 11, ('bad', 'horrible'): 6, ('bad', 'like'): 12, ('bad', 'little'): 7, ('bad', 'make'): 6, ('bad', 'movie'): 20, ('bad', 'much'): 6, ('bad', 'nothing'): 6, ('bad', 'plot'): 10, ('bad', 'really'): 6, ('bad', 'script'): 10, ('bad', 'see'): 7, ('bad', 'seen'): 6, ('bad', 'time'): 8, ('bad', 'waste'): 6, ('bad', 'worse'): 7, ('bad', 'worst'): 8, ('bad', 'would'): 9, ('battery', 'phone'): 8, ('best', 'poor'): 6, ('best', 'time'): 6, ('better', 'make'): 6, ('better', 'movie'): 7, ('better', 'would'): 6, ('big', 'movie'): 6, ('bluetooth', 'phone'): 6, ('boring', 'movie'): 6, ('buy', 'phone'): 9, ('calls', 'phone'): 6, (\"can't\", 'even'): 6, (\"can't\", 'film'): 6, (\"can't\", 'like'): 7, ('character', 'even'): 6, ('character', 'movie'): 9, ('character', 'see'): 6, ('characters', 'film'): 7, ('characters', 'good'): 7, ('characters', 'movie'): 8, ('could', 'even'): 7, ('could', 'ever'): 8, ('could', 'film'): 6, ('could', 'get'): 6, ('could', 'great'): 6, ('could', 'like'): 6, ('could', 'make'): 7, ('could', 'movie'): 9, ('could', 'plot'): 6, ('could', 'really'): 8, ('could', 'see'): 7, ('could', 'thing'): 7, ('could', 'time'): 7, ('could', 'use'): 6, ('could', 'would'): 9, ('customer', 'service'): 7, ('dialogue', 'even'): 6, ('dialogue', 'make'): 6, ('dialogue', 'movie'): 8, ('disappointed', \"i'm\"): 6, ('ear', 'phone'): 8, ('ear', 'quality'): 6, ('enough', 'movie'): 6, ('even', 'film'): 13, ('even', 'get'): 6, ('even', 'good'): 7, ('even', 'great'): 6, ('even', 'like'): 9, ('even', 'little'): 7, ('even', 'make'): 6, ('even', 'movie'): 17, ('even', 'plot'): 7, ('even', 'poor'): 6, ('even', 'real'): 6, ('even', 'really'): 7, ('even', 'time'): 10, ('even', 'waste'): 7, ('even', 'work'): 7, ('even', 'worse'): 6, ('even', 'would'): 7, ('ever', 'film'): 6, ('ever', 'good'): 7, ('ever', 'great'): 6, ('ever', \"i've\"): 8, ('ever', 'like'): 7, ('ever', 'make'): 6, ('ever', 'movie'): 7, ('ever', 'much'): 6, ('ever', 'never'): 6, ('ever', 'phone'): 6, ('ever', 'see'): 6, ('ever', 'service'): 6, ('ever', 'worst'): 16, ('ever', 'would'): 7, ('everything', 'movie'): 6, ('film', 'good'): 13, ('film', 'like'): 11, ('film', 'little'): 8, ('film', 'made'): 7, ('film', 'movie'): 21, ('film', 'much'): 6, ('film', 'plot'): 12, ('film', 'real'): 8, ('film', 'scenes'): 6, ('film', 'script'): 7, ('film', 'see'): 10, ('film', 'seen'): 6, ('film', 'story'): 8, ('film', 'stupid'): 6, ('film', 'thing'): 6, ('film', 'time'): 11, ('film', 'waste'): 6, ('film', 'watch'): 6, ('film', 'watching'): 6, ('film', 'way'): 9, ('film', 'well'): 6, ('film', 'work'): 7, ('film', 'worst'): 7, ('film', 'would'): 9, ('first', \"i'm\"): 6, ('first', 'movie'): 7, ('first', 'phone'): 7, ('first', 'time'): 7, ('food', 'much'): 6, ('food', 'place'): 10, ('food', 'service'): 7, ('get', 'like'): 7, ('get', 'little'): 6, ('get', 'minutes'): 6, ('get', 'movie'): 8, ('get', 'much'): 7, ('get', 'plot'): 6, ('get', 'time'): 7, ('good', 'horrible'): 6, ('good', 'however'): 6, ('good', \"i've\"): 6, ('good', 'like'): 15, ('good', 'made'): 6, ('good', 'movie'): 13, ('good', 'much'): 6, ('good', 'old'): 6, ('good', 'phone'): 8, ('good', 'place'): 7, ('good', 'plot'): 8, ('good', 'pretty'): 6, ('good', 'quality'): 7, ('good', 'really'): 8, ('good', 'script'): 6, ('good', 'see'): 7, ('good', 'service'): 7, ('good', 'stupid'): 6, ('good', 'time'): 11, ('good', 'waste'): 6, ('good', 'way'): 6, ('good', 'work'): 7, ('good', 'would'): 6, ('got', 'like'): 7, ('got', 'really'): 7, ('great', 'movie'): 6, ('great', 'place'): 6, ('great', 'time'): 7, ('great', 'would'): 6, ('headset', 'phone'): 8, ('horrible', 'would'): 7, ('however', 'time'): 6, (\"i'm\", 'waste'): 7, (\"i'm\", 'worst'): 6, (\"i've\", 'movie'): 7, (\"i've\", 'seen'): 6, (\"i've\", 'worst'): 7, ('like', 'little'): 6, ('like', 'made'): 10, ('like', 'minutes'): 7, ('like', 'movie'): 15, ('like', 'much'): 8, ('like', 'old'): 6, ('like', 'people'): 6, ('like', 'phone'): 8, ('like', 'place'): 7, ('like', 'plot'): 8, ('like', 'real'): 6, ('like', 'really'): 8, ('like', 'see'): 6, ('like', 'story'): 7, ('like', 'terrible'): 6, ('like', 'think'): 8, ('like', 'time'): 11, ('like', 'work'): 9, ('like', 'worse'): 7, ('like', 'worst'): 6, ('like', 'would'): 7, ('little', 'movie'): 11, ('little', 'plot'): 8, ('little', 'worse'): 6, ('made', 'movie'): 6, ('made', 'would'): 7, ('make', 'movie'): 12, ('make', 'plot'): 6, ('make', 'time'): 7, ('make', 'well'): 7, ('make', 'worst'): 6, ('money', 'waste'): 7, ('movie', 'movies'): 6, ('movie', 'much'): 11, ('movie', 'nothing'): 6, ('movie', 'plot'): 17, ('movie', 'pretty'): 6, ('movie', 'real'): 7, ('movie', 'really'): 10, ('movie', 'saw'): 6, ('movie', 'scenes'): 9, ('movie', 'script'): 10, ('movie', 'see'): 9, ('movie', 'seen'): 9, ('movie', 'story'): 9, ('movie', 'stupid'): 8, ('movie', 'terrible'): 6, ('movie', \"there's\"): 6, ('movie', 'time'): 9, ('movie', 'totally'): 6, ('movie', 'waste'): 8, ('movie', 'watch'): 6, ('movie', 'watching'): 9, ('movie', 'well'): 7, ('movie', 'work'): 9, ('movie', 'worse'): 9, ('movie', 'worst'): 6, ('movie', 'would'): 7, ('movie', 'writing'): 6, ('much', 'place'): 7, ('much', 'plot'): 6, ('much', 'really'): 6, ('much', 'service'): 6, ('much', 'would'): 7, ('phone', 'product'): 9, ('phone', 'quality'): 6, ('phone', 'sound'): 6, ('phone', 'time'): 6, ('phone', 'use'): 10, ('phone', 'used'): 7, ('phone', 'well'): 6, ('phone', 'work'): 7, ('phone', 'worst'): 7, ('place', 'service'): 8, ('place', 'would'): 7, ('plot', 'script'): 8, ('plot', 'see'): 6, ('plot', \"there's\"): 6, ('plot', 'time'): 7, ('poor', 'quality'): 6, ('poor', 'time'): 6, ('quality', 'sound'): 9, ('quality', 'time'): 6, ('quality', 'use'): 7, ('quality', 'would'): 7, ('really', 'see'): 6, ('really', 'thing'): 7, ('really', 'time'): 6, ('really', 'would'): 7, ('script', 'time'): 6, ('see', 'thing'): 6, ('see', 'would'): 7, ('service', 'would'): 6, ('terrible', 'work'): 6, ('thing', 'worst'): 6, ('time', 'waste'): 15, ('time', 'work'): 7, ('use', 'work'): 6, ('work', 'would'): 6, ('worst', 'would'): 7}\n",
            "{('acting', 'bad', 'even'): 6, ('acting', 'bad', 'film'): 8, ('acting', 'bad', 'like'): 7, ('acting', 'bad', 'movie'): 10, ('acting', 'bad', 'plot'): 7, ('acting', 'bad', 'script'): 6, ('acting', 'bad', 'worse'): 6, ('acting', 'even', 'movie'): 7, ('acting', 'even', 'plot'): 6, ('acting', 'film', 'movie'): 7, ('acting', 'like', 'movie'): 7, ('acting', 'movie', 'plot'): 9, ('acting', 'movie', 'script'): 6, ('acting', 'movie', 'worse'): 7, ('acting', 'plot', 'script'): 6, ('awful', 'film', 'movie'): 6, ('bad', 'could', 'movie'): 7, ('bad', 'even', 'film'): 6, ('bad', 'even', 'movie'): 10, ('bad', 'film', 'good'): 7, ('bad', 'film', 'like'): 6, ('bad', 'film', 'movie'): 11, ('bad', 'film', 'plot'): 6, ('bad', 'good', 'like'): 6, ('bad', 'good', 'movie'): 7, ('bad', 'like', 'movie'): 9, ('bad', 'like', 'plot'): 6, ('bad', 'little', 'movie'): 7, ('bad', 'make', 'movie'): 6, ('bad', 'movie', 'much'): 6, ('bad', 'movie', 'plot'): 10, ('bad', 'movie', 'script'): 9, ('bad', 'movie', 'seen'): 6, ('bad', 'movie', 'time'): 6, ('bad', 'movie', 'worse'): 7, ('bad', 'plot', 'script'): 6, ('even', 'film', 'movie'): 10, ('even', 'film', 'time'): 6, ('even', 'like', 'movie'): 7, ('even', 'little', 'movie'): 6, ('even', 'make', 'movie'): 6, ('even', 'movie', 'plot'): 7, ('even', 'movie', 'time'): 7, ('even', 'time', 'waste'): 7, ('ever', \"i've\", 'worst'): 7, ('film', 'good', 'like'): 6, ('film', 'good', 'movie'): 8, ('film', 'good', 'see'): 6, ('film', 'like', 'movie'): 8, ('film', 'little', 'movie'): 7, ('film', 'movie', 'much'): 6, ('film', 'movie', 'plot'): 9, ('film', 'movie', 'see'): 6, ('film', 'movie', 'seen'): 6, ('film', 'movie', 'story'): 6, ('film', 'movie', 'work'): 6, ('film', 'time', 'waste'): 6, ('good', 'movie', 'plot'): 6, ('like', 'movie', 'plot'): 8, ('like', 'movie', 'really'): 6, ('little', 'movie', 'plot'): 7, ('make', 'movie', 'plot'): 6, ('movie', 'plot', 'script'): 6, ('movie', 'time', 'waste'): 7}\n",
            "{('acting', 'bad', 'film', 'movie'): 6, ('acting', 'bad', 'like', 'movie'): 6, ('acting', 'bad', 'movie', 'plot'): 7, ('acting', 'bad', 'movie', 'script'): 6, ('acting', 'bad', 'movie', 'worse'): 6, ('acting', 'even', 'movie', 'plot'): 6, ('bad', 'film', 'good', 'movie'): 6, ('bad', 'film', 'movie', 'plot'): 6, ('bad', 'like', 'movie', 'plot'): 6, ('bad', 'movie', 'plot', 'script'): 6}\n"
          ]
        }
      ]
    },
    {
      "cell_type": "code",
      "source": [
        "# Установка библиотеки для алгоритма FP-Growth\n",
        "!git clone https://github.com/calee0219/Python3-Fp-growth.git\n",
        "!cd Python3-Fp-growth/\n",
        "!python setup.py install\n",
        "from fp_growth import find_frequent_itemsets"
      ],
      "metadata": {
        "colab": {
          "base_uri": "https://localhost:8080/"
        },
        "id": "p7L4aCIA79Ub",
        "outputId": "2c8445f3-24e7-414e-ce6a-fa082b9057c1"
      },
      "execution_count": 6,
      "outputs": [
        {
          "output_type": "stream",
          "name": "stdout",
          "text": [
            "fatal: destination path 'Python3-Fp-growth' already exists and is not an empty directory.\n",
            "python3: can't open file 'setup.py': [Errno 2] No such file or directory\n"
          ]
        }
      ]
    },
    {
      "cell_type": "code",
      "source": [
        "# Алгоритм FP-Growth, набор данных №1 - Комментарии\n",
        "itemsets=find_frequent_itemsets(data, 0.04)\n",
        "itemsets=list(itemsets)\n",
        "for i in range(7):\n",
        "  print(i)\n",
        "  for l in range(len(itemsets)):\n",
        "    if len(itemsets[l])==i:\n",
        "      print(itemsets[l])"
      ],
      "metadata": {
        "colab": {
          "base_uri": "https://localhost:8080/"
        },
        "id": "c0DCbEZY-C26",
        "outputId": "5ab7a966-ff5f-4870-fc57-b6310a4fb577"
      },
      "execution_count": 88,
      "outputs": [
        {
          "output_type": "stream",
          "name": "stdout",
          "text": [
            "0\n",
            "1\n",
            "['check']\n",
            "['channel']\n",
            "['guys']\n",
            "['new']\n",
            "['hey']\n",
            "['subscribe']\n",
            "['views']\n",
            "['https']\n",
            "['like']\n",
            "['please']\n",
            "['amp']\n",
            "['http']\n",
            "['//www']\n",
            "['music']\n",
            "['song']\n",
            "['youtube']\n",
            "['video']\n",
            "['get']\n",
            "['love']\n",
            "['katy']\n",
            "['quot']\n",
            "2\n",
            "['check', 'channel']\n",
            "['subscribe', 'channel']\n",
            "['please', 'channel']\n",
            "['check', 'guys']\n",
            "['please', 'subscribe']\n",
            "['like', 'please']\n",
            "['check', 'please']\n",
            "['amp', 'http']\n",
            "['http', '//www']\n",
            "['check', 'youtube']\n",
            "['video', 'youtube']\n",
            "['check', 'video']\n",
            "['song', 'love']\n",
            "3\n",
            "['check', 'amp', 'http']\n",
            "['check', 'video', 'youtube']\n",
            "4\n",
            "5\n",
            "6\n"
          ]
        }
      ]
    },
    {
      "cell_type": "code",
      "source": [
        "# Алгоритм FP-Growth, набор данных №2 - Отзывы\n",
        "itemsets=find_frequent_itemsets(data2, 0.1)\n",
        "itemsets=list(itemsets)\n",
        "for i in range(7):\n",
        "  print(i)\n",
        "  for l in range(len(itemsets)):\n",
        "    if len(itemsets[l])==i:\n",
        "      print(itemsets[l])"
      ],
      "metadata": {
        "colab": {
          "base_uri": "https://localhost:8080/"
        },
        "id": "dbWtTzUlKAGE",
        "outputId": "decc0727-10dd-4a30-9103-51bca6601342"
      },
      "execution_count": 113,
      "outputs": [
        {
          "output_type": "stream",
          "name": "stdout",
          "text": [
            "0\n",
            "1\n",
            "['staff']\n",
            "['food']\n",
            "['everything']\n",
            "['stay']\n",
            "['nice']\n",
            "['best']\n",
            "['like']\n",
            "['made']\n",
            "['room']\n",
            "['wonderful']\n",
            "['every']\n",
            "['place']\n",
            "['amazing']\n",
            "['back']\n",
            "['special']\n",
            "['loved']\n",
            "['fantastic']\n",
            "['beautiful']\n",
            "['seixo']\n",
            "['experience']\n",
            "['would']\n",
            "['thank']\n",
            "['areas']\n",
            "['feel']\n",
            "['love']\n",
            "['service']\n",
            "['restaurant']\n",
            "['perfect']\n",
            "['time']\n",
            "['great']\n",
            "2\n",
            "['place', 'amazing']\n",
            "['place', 'back']\n",
            "['place', 'special']\n",
            "['thank', 'special']\n",
            "['areas', 'seixo']\n",
            "['place', 'thank']\n",
            "['place', 'service']\n",
            "3\n",
            "['place', 'thank', 'special']\n",
            "['thank', 'areas', 'seixo']\n",
            "4\n",
            "5\n",
            "6\n"
          ]
        }
      ]
    },
    {
      "cell_type": "code",
      "source": [
        "# Алгоритм FP-Growth, набор данных №3 - Предложения\n",
        "itemsets=find_frequent_itemsets(data3, 0.3)\n",
        "itemsets=list(itemsets)\n",
        "for i in range(7):\n",
        "  print(i)\n",
        "  for l in range(len(itemsets)):\n",
        "    if len(itemsets[l])==i:\n",
        "      print(itemsets[l])"
      ],
      "metadata": {
        "colab": {
          "base_uri": "https://localhost:8080/"
        },
        "id": "59QBJ0Fxnlk0",
        "outputId": "01604b63-6b8d-49f2-811d-7d2f9a92c641"
      },
      "execution_count": 115,
      "outputs": [
        {
          "output_type": "stream",
          "name": "stdout",
          "text": [
            "0\n",
            "1\n",
            "['like']\n",
            "['phone']\n",
            "['good']\n",
            "['bad']\n",
            "['movie']\n",
            "['film']\n",
            "2\n",
            "['bad', 'like']\n",
            "['movie', 'like']\n",
            "['movie', 'bad']\n",
            "['movie', 'film']\n",
            "['bad', 'film']\n",
            "3\n",
            "['movie', 'bad', 'like']\n",
            "['movie', 'bad', 'film']\n",
            "4\n",
            "5\n",
            "6\n"
          ]
        }
      ]
    },
    {
      "cell_type": "code",
      "source": [
        "# Установка библиотеки для алгоритма ECLAT\n",
        "!pip install pyECLAT\n",
        "from pyECLAT import ECLAT\n",
        "import pandas as pd "
      ],
      "metadata": {
        "colab": {
          "base_uri": "https://localhost:8080/"
        },
        "id": "SE-EvpqyuDPV",
        "outputId": "174afe19-61b5-4030-8032-1218c8d2934a"
      },
      "execution_count": 2,
      "outputs": [
        {
          "output_type": "stream",
          "name": "stdout",
          "text": [
            "Requirement already satisfied: pyECLAT in /usr/local/lib/python3.7/dist-packages (1.0.2)\n",
            "Requirement already satisfied: pandas>=0.25.3 in /usr/local/lib/python3.7/dist-packages (from pyECLAT) (1.3.5)\n",
            "Requirement already satisfied: tqdm>=4.41.1 in /usr/local/lib/python3.7/dist-packages (from pyECLAT) (4.62.3)\n",
            "Requirement already satisfied: numpy>=1.17.4 in /usr/local/lib/python3.7/dist-packages (from pyECLAT) (1.19.5)\n",
            "Requirement already satisfied: pytz>=2017.3 in /usr/local/lib/python3.7/dist-packages (from pandas>=0.25.3->pyECLAT) (2018.9)\n",
            "Requirement already satisfied: python-dateutil>=2.7.3 in /usr/local/lib/python3.7/dist-packages (from pandas>=0.25.3->pyECLAT) (2.8.2)\n",
            "Requirement already satisfied: six>=1.5 in /usr/local/lib/python3.7/dist-packages (from python-dateutil>=2.7.3->pandas>=0.25.3->pyECLAT) (1.15.0)\n"
          ]
        }
      ]
    },
    {
      "cell_type": "code",
      "source": [
        "# Алгоритм ECLAT, набор данных №1 - Комментарии\n",
        "eclat_instance = ECLAT(data=pd.DataFrame(data), verbose=True)\n",
        "get_ECLAT_indexes, get_ECLAT_supports = eclat_instance.fit(min_support=0.04,\n",
        "                                                           separator=' & ',\n",
        "                                                           verbose=True)\n",
        "for e in get_ECLAT_supports:\n",
        "  print(e)"
      ],
      "metadata": {
        "colab": {
          "base_uri": "https://localhost:8080/"
        },
        "id": "I-zWb-Up2aPe",
        "outputId": "de5c9b3c-b559-4e69-b297-400216b28d5e"
      },
      "execution_count": 4,
      "outputs": [
        {
          "output_type": "stream",
          "name": "stderr",
          "text": [
            "100%|██████████| 4006/4006 [04:01<00:00, 16.62it/s]\n",
            "100%|██████████| 4006/4006 [00:00<00:00, 9777.87it/s]\n",
            "100%|██████████| 4006/4006 [00:01<00:00, 2311.44it/s]\n"
          ]
        },
        {
          "output_type": "stream",
          "name": "stdout",
          "text": [
            "Combination 1 by 1\n"
          ]
        },
        {
          "output_type": "stream",
          "name": "stderr",
          "text": [
            "16it [00:04,  3.97it/s]\n"
          ]
        },
        {
          "output_type": "stream",
          "name": "stdout",
          "text": [
            "Combination 2 by 2\n"
          ]
        },
        {
          "output_type": "stream",
          "name": "stderr",
          "text": [
            "120it [00:15,  7.74it/s]\n"
          ]
        },
        {
          "output_type": "stream",
          "name": "stdout",
          "text": [
            "Combination 3 by 3\n"
          ]
        },
        {
          "output_type": "stream",
          "name": "stderr",
          "text": [
            "560it [01:10,  7.97it/s]"
          ]
        },
        {
          "output_type": "stream",
          "name": "stdout",
          "text": [
            "subscribe\n",
            "hey\n",
            "music\n",
            "video\n",
            "youtube\n",
            "https\n",
            "like\n",
            "check\n",
            "please\n",
            "channel\n",
            "love\n",
            "http\n",
            "guys\n",
            "//www\n",
            "views\n",
            "song\n",
            "video & youtube\n",
            "video & check\n",
            "youtube & check\n",
            "check & channel\n",
            "video & youtube & check\n"
          ]
        },
        {
          "output_type": "stream",
          "name": "stderr",
          "text": [
            "\n"
          ]
        }
      ]
    },
    {
      "cell_type": "code",
      "source": [
        "# Алгоритм ECLAT, набор данных №2 - Отзывы\n",
        "eclat_instance = ECLAT(data=pd.DataFrame(data2), verbose=True)\n",
        "get_ECLAT_indexes, get_ECLAT_supports = eclat_instance.fit(min_support=0.04,\n",
        "                                                           separator=' & ',\n",
        "                                                           verbose=True)\n",
        "for e in get_ECLAT_supports:\n",
        "  print(e)"
      ],
      "metadata": {
        "id": "MZnBFXNjHsZq"
      },
      "execution_count": null,
      "outputs": []
    },
    {
      "cell_type": "code",
      "source": [
        "# Алгоритм ECLAT, набор данных №3 - Предложения\n",
        "eclat_instance = ECLAT(data=pd.DataFrame(data3), verbose=True)\n",
        "get_ECLAT_indexes, get_ECLAT_supports = eclat_instance.fit(min_support=0.04,\n",
        "                                                           separator=' & ',\n",
        "                                                           verbose=True)\n",
        "for e in get_ECLAT_supports:\n",
        "  print(e)"
      ],
      "metadata": {
        "id": "btFN08bqInYY"
      },
      "execution_count": null,
      "outputs": []
    },
    {
      "cell_type": "code",
      "source": [
        "'''\n",
        "В результате выполнения поиска частых наборов в текстах ессественного языка из различных областей \n",
        "были получены частые наборы слов, характерные для соответствующей темы, например:\n",
        "Для комментариев на YouTube: \"check, chanell\"(зайти на канал) и \"please, subcribe\"(просьба подписаться)\n",
        "Для отзывов на отель: \"amazing, fantastic, place\"(восторженный отзыв об этом месте)\n",
        "Для эмоционально окрашенных предложений: \"acting, bad, movie, plot\"(отрицательный отзыв о фильме, игре актеров, сюжете)\n",
        "'''"
      ],
      "metadata": {
        "id": "UOx5OxyNb0Dg"
      },
      "execution_count": null,
      "outputs": []
    },
    {
      "cell_type": "code",
      "source": [
        "# Измерения\n",
        "# 1. Измерение быстродействия"
      ],
      "metadata": {
        "id": "IrVq5ka9I4MS"
      },
      "execution_count": null,
      "outputs": []
    },
    {
      "cell_type": "code",
      "source": [
        "import time"
      ],
      "metadata": {
        "id": "AgUBsfpWN48K"
      },
      "execution_count": 25,
      "outputs": []
    },
    {
      "cell_type": "code",
      "source": [
        "start_time = time.time()\n",
        "itemsets, rules = apriori(data, min_support=0.1)\n",
        "print(\"--- %s ms ---\" % ((time.time() - start_time)*1000))"
      ],
      "metadata": {
        "colab": {
          "base_uri": "https://localhost:8080/"
        },
        "id": "e-iTApSOJl_G",
        "outputId": "85d1566a-5dff-4d0e-b152-355c571f296c"
      },
      "execution_count": 40,
      "outputs": [
        {
          "output_type": "stream",
          "name": "stdout",
          "text": [
            "--- 17.455577850341797 ms ---\n"
          ]
        }
      ]
    },
    {
      "cell_type": "code",
      "source": [
        "start_time = time.time()\n",
        "itemsets=find_frequent_itemsets(data, 0.1)\n",
        "print(\"--- %s ms ---\" % ((time.time() - start_time)*1000))"
      ],
      "metadata": {
        "colab": {
          "base_uri": "https://localhost:8080/"
        },
        "id": "xd-Dr6EAJ36A",
        "outputId": "471386e8-2ece-4b25-c29a-6336e96db9cf"
      },
      "execution_count": 104,
      "outputs": [
        {
          "output_type": "stream",
          "name": "stdout",
          "text": [
            "--- 0.09942054748535156 ms ---\n"
          ]
        }
      ]
    },
    {
      "cell_type": "code",
      "source": [
        "start_time = time.time()\n",
        "eclat_instance = ECLAT(data=pd.DataFrame(data), verbose=True)\n",
        "get_ECLAT_indexes, get_ECLAT_supports = eclat_instance.fit(min_support=0.015,\n",
        "                                                           separator=' & ',\n",
        "                                                           verbose=True)\n",
        "print(\"--- %s ms ---\" % ((time.time() - start_time)*1000))"
      ],
      "metadata": {
        "colab": {
          "base_uri": "https://localhost:8080/"
        },
        "id": "Q4eFC-VdJ-HR",
        "outputId": "17cc2517-48b5-406c-d4e0-926756d7bc0b"
      },
      "execution_count": 11,
      "outputs": [
        {
          "output_type": "stream",
          "name": "stderr",
          "text": [
            "100%|██████████| 4006/4006 [04:18<00:00, 15.51it/s]\n",
            "100%|██████████| 4006/4006 [00:00<00:00, 9008.73it/s]\n",
            "100%|██████████| 4006/4006 [00:01<00:00, 2228.82it/s]\n"
          ]
        },
        {
          "output_type": "stream",
          "name": "stdout",
          "text": [
            "Combination 1 by 1\n"
          ]
        },
        {
          "output_type": "stream",
          "name": "stderr",
          "text": [
            "16it [00:04,  4.00it/s]\n"
          ]
        },
        {
          "output_type": "stream",
          "name": "stdout",
          "text": [
            "Combination 2 by 2\n"
          ]
        },
        {
          "output_type": "stream",
          "name": "stderr",
          "text": [
            "120it [00:15,  7.78it/s]\n"
          ]
        },
        {
          "output_type": "stream",
          "name": "stdout",
          "text": [
            "Combination 3 by 3\n"
          ]
        },
        {
          "output_type": "stream",
          "name": "stderr",
          "text": [
            "560it [01:11,  7.88it/s]\n"
          ]
        }
      ]
    },
    {
      "cell_type": "code",
      "source": [
        "import numpy as np\n",
        "import matplotlib.pyplot as plt\n",
        "\n",
        "x = [0.015, 0.02, 0.03, 0.04, 0.1]\n",
        "y = [146,   32,   18,   19,   17]\n",
        "\n",
        "fig, ax = plt.subplots()\n",
        "\n",
        "ax.plot(x, y)\n",
        "ax.grid()\n",
        "\n",
        "ax.set_xlabel('порог поддержки')\n",
        "ax.set_ylabel('время выполнения (мс)')\n",
        "\n",
        "ax.set_title('Быстродействие алгоритма Apriori')\n",
        "\n",
        "plt.show()"
      ],
      "metadata": {
        "colab": {
          "base_uri": "https://localhost:8080/",
          "height": 295
        },
        "id": "QfS60QzVKVfa",
        "outputId": "7e9e7391-16d9-4995-faaf-2e0efeb34801"
      },
      "execution_count": 41,
      "outputs": [
        {
          "output_type": "display_data",
          "data": {
            "image/png": "[encoded data removed]",
            "text/plain": [
              "<Figure size 432x288 with 1 Axes>"
            ]
          },
          "metadata": {
            "needs_background": "light"
          }
        }
      ]
    },
    {
      "cell_type": "code",
      "source": [
        "x = [0.015, 0.02, 0.03, 0.04, 0.1]\n",
        "y = [0.08,   0.14,   0.09,   0.07,   0.09]\n",
        "\n",
        "fig, ax = plt.subplots()\n",
        "\n",
        "ax.plot(x, y)\n",
        "ax.grid()\n",
        "\n",
        "ax.set_xlabel('порог поддержки')\n",
        "ax.set_ylabel('время выполнения (мс)')\n",
        "\n",
        "ax.set_title('Быстродействие алгоритма FP-Growth')\n",
        "\n",
        "plt.show()"
      ],
      "metadata": {
        "colab": {
          "base_uri": "https://localhost:8080/",
          "height": 295
        },
        "id": "1E1uLZRmPJ5E",
        "outputId": "c4621460-33da-4781-bd7b-f9decdaf2c46"
      },
      "execution_count": 105,
      "outputs": [
        {
          "output_type": "display_data",
          "data": {
            "image/png": "[encoded data removed]",
            "text/plain": [
              "<Figure size 432x288 with 1 Axes>"
            ]
          },
          "metadata": {
            "needs_background": "light"
          }
        }
      ]
    },
    {
      "cell_type": "code",
      "source": [
        "# 2. Измерение количества наборов\n",
        "sum=0\n",
        "itemsets, rules = apriori(data, min_support=0.1)\n",
        "for i in range(len(itemsets)):\n",
        "  sum=sum+len(itemsets[i+1])\n",
        "print(sum)"
      ],
      "metadata": {
        "colab": {
          "base_uri": "https://localhost:8080/"
        },
        "id": "xlWCK-nTRiqX",
        "outputId": "9ee68095-2797-4331-8f24-442eb0a01950"
      },
      "execution_count": 122,
      "outputs": [
        {
          "output_type": "stream",
          "name": "stdout",
          "text": [
            "5\n"
          ]
        }
      ]
    },
    {
      "cell_type": "code",
      "source": [
        "x = [0.015, 0.02, 0.03, 0.04, 0.1]\n",
        "y = [115,   71,   36,   21,   5]\n",
        "\n",
        "fig, ax = plt.subplots()\n",
        "\n",
        "ax.plot(x, y)\n",
        "ax.grid()\n",
        "\n",
        "ax.set_xlabel('порог поддержки')\n",
        "ax.set_ylabel('кол-во наборов')\n",
        "\n",
        "ax.set_title('Измерение кол-ва наборов')\n",
        "\n",
        "plt.show()"
      ],
      "metadata": {
        "id": "pc4TDsJnVQJz",
        "outputId": "a9f60c57-9c6b-471c-a603-18b7ff16937e",
        "colab": {
          "base_uri": "https://localhost:8080/",
          "height": 295
        }
      },
      "execution_count": 124,
      "outputs": [
        {
          "output_type": "display_data",
          "data": {
            "image/png": "[encoded data removed]",
            "text/plain": [
              "<Figure size 432x288 with 1 Axes>"
            ]
          },
          "metadata": {
            "needs_background": "light"
          }
        }
      ]
    },
    {
      "cell_type": "code",
      "source": [
        "# 3. Измерение максимальной длины набора\n",
        "itemsets, rules = apriori(data, min_support=0.07)\n",
        "for i in range(len(itemsets)):\n",
        "  print(i+1)\n"
      ],
      "metadata": {
        "id": "sDIsJgzgVyJT",
        "outputId": "08cfaef3-9eda-43fd-b2e5-ba2c2facdb55",
        "colab": {
          "base_uri": "https://localhost:8080/"
        }
      },
      "execution_count": 132,
      "outputs": [
        {
          "output_type": "stream",
          "name": "stdout",
          "text": [
            "1\n",
            "2\n"
          ]
        }
      ]
    },
    {
      "cell_type": "code",
      "source": [
        "x = [0.015, 0.02, 0.03, 0.04, 0.05, 0.07, 0.1]\n",
        "y = [3,     3,    3,    3,    3,    2,    1]\n",
        "\n",
        "fig, ax = plt.subplots()\n",
        "\n",
        "ax.plot(x, y)\n",
        "ax.grid()\n",
        "\n",
        "ax.set_xlabel('порог поддержки')\n",
        "ax.set_ylabel('длина наборов')\n",
        "\n",
        "ax.set_title('Измерение макс. длины набора')\n",
        "\n",
        "plt.show()"
      ],
      "metadata": {
        "id": "eX2N3at3Vx5x",
        "outputId": "059b054b-dd14-4323-da4a-0617db4d7f79",
        "colab": {
          "base_uri": "https://localhost:8080/",
          "height": 295
        }
      },
      "execution_count": 147,
      "outputs": [
        {
          "output_type": "display_data",
          "data": {
            "image/png": "[encoded data removed]",
            "text/plain": [
              "<Figure size 432x288 with 1 Axes>"
            ]
          },
          "metadata": {
            "needs_background": "light"
          }
        }
      ]
    },
    {
      "cell_type": "code",
      "source": [
        "# 3. Измерение количества наборов различной длины\n",
        "itemsets, rules = apriori(data, min_support=0.1)\n",
        "for i in range(len(itemsets)):\n",
        "  print(i+1)\n",
        "  print(len(itemsets[i+1]))"
      ],
      "metadata": {
        "id": "1CfpN2YFXmst",
        "outputId": "c1a5157f-e277-499e-b77d-be2d07d0c6e6",
        "colab": {
          "base_uri": "https://localhost:8080/"
        }
      },
      "execution_count": 152,
      "outputs": [
        {
          "output_type": "stream",
          "name": "stdout",
          "text": [
            "1\n",
            "5\n"
          ]
        }
      ]
    },
    {
      "cell_type": "code",
      "source": [
        "x = [0.015, 0.02, 0.03, 0.04, 0.05, 0.07, 0.1]\n",
        "y1 = [74,    47,    25,    16,    13,    9,     5]\n",
        "y2 = [37,    23,    10,    4,     3,     3,     0]\n",
        "y3 = [4,     1,     1,     1,     1,     0,     0]\n",
        "\n",
        "fig, ax = plt.subplots()\n",
        "\n",
        "ax.plot(x, y1)\n",
        "ax.plot(x, y2)\n",
        "ax.plot(x, y3)\n",
        "ax.grid()\n",
        "\n",
        "ax.set_xlabel('порог поддержки')\n",
        "ax.set_ylabel('кол-во наборов')\n",
        "\n",
        "ax.set_title('Измерение кол-ва наборов')\n",
        "\n",
        "plt.show()"
      ],
      "metadata": {
        "id": "PzzOHcBjYDzL",
        "outputId": "8d7291db-c4e4-41c6-e726-1c8d39fb202d",
        "colab": {
          "base_uri": "https://localhost:8080/",
          "height": 295
        }
      },
      "execution_count": 153,
      "outputs": [
        {
          "output_type": "display_data",
          "data": {
            "image/png": "[encoded data removed]",
            "text/plain": [
              "<Figure size 432x288 with 1 Axes>"
            ]
          },
          "metadata": {
            "needs_background": "light"
          }
        }
      ]
    }
  ]
}